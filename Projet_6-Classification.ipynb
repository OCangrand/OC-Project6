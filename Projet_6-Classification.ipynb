{
 "cells": [
  {
   "cell_type": "code",
   "execution_count": 2,
   "id": "27425ef5-3c71-4fa4-8261-b79366371208",
   "metadata": {},
   "outputs": [
    {
     "name": "stdout",
     "output_type": "stream",
     "text": [
      "Num GPUs Available:  1\n"
     ]
    }
   ],
   "source": [
    "import pandas as pd\n",
    "import numpy as np\n",
    "import matplotlib.pyplot as plt\n",
    "import seaborn as sns\n",
    "%matplotlib inline\n",
    "import os\n",
    "from os import listdir\n",
    "from sklearn.model_selection import train_test_split\n",
    "from sklearn import metrics\n",
    "from sklearn.metrics import accuracy_score, auc, roc_auc_score, roc_curve\n",
    "from glob import glob\n",
    "\n",
    "import tensorflow as tf\n",
    "from tensorflow.keras.models import Model, Sequential\n",
    "from tensorflow.keras.layers import GlobalAveragePooling2D, GlobalAveragePooling1D, Flatten, Dense, Dropout \n",
    "from tensorflow.keras.layers import Rescaling, RandomFlip, RandomRotation, RandomZoom\n",
    "from tensorflow.keras.callbacks import EarlyStopping, ModelCheckpoint\n",
    "from tensorflow.keras.applications.vgg16 import VGG16, preprocess_input\n",
    "from tensorflow.keras.preprocessing.image import load_img, img_to_array, ImageDataGenerator\n",
    "from tensorflow.keras.utils import to_categorical\n",
    "from plot_keras_history import show_history, plot_history\n",
    "\n",
    "\n",
    "import logging\n",
    "logging.disable(logging.WARNING) # disable WARNING, INFO and DEBUG logging everywhere\n",
    "\n",
    "# os.environ[\"TF_KERAS\"]='1'\n",
    "print(\"Num GPUs Available: \", len(tf.config.list_physical_devices('GPU')))"
   ]
  },
  {
   "cell_type": "code",
   "execution_count": 3,
   "id": "41b44b63-6617-4925-94c7-4b8e9a3ffc9a",
   "metadata": {},
   "outputs": [
    {
     "name": "stdout",
     "output_type": "stream",
     "text": [
      "['/device:CPU:0', '/device:GPU:0']\n"
     ]
    }
   ],
   "source": [
    "from tensorflow.python.client import device_lib\n",
    "\n",
    "def get_available_devices():\n",
    "    local_device_protos = device_lib.list_local_devices()\n",
    "    return [x.name for x in local_device_protos]\n",
    "\n",
    "print(get_available_devices())"
   ]
  },
  {
   "cell_type": "markdown",
   "id": "791fe518-de4a-479e-83df-fbee168156f5",
   "metadata": {},
   "source": [
    "Récupération du dataframe précédemment préparé."
   ]
  },
  {
   "cell_type": "code",
   "execution_count": 4,
   "id": "96de743a-32f8-46d6-a203-89c1f5102ef7",
   "metadata": {},
   "outputs": [
    {
     "data": {
      "text/html": [
       "<div>\n",
       "<style scoped>\n",
       "    .dataframe tbody tr th:only-of-type {\n",
       "        vertical-align: middle;\n",
       "    }\n",
       "\n",
       "    .dataframe tbody tr th {\n",
       "        vertical-align: top;\n",
       "    }\n",
       "\n",
       "    .dataframe thead th {\n",
       "        text-align: right;\n",
       "    }\n",
       "</style>\n",
       "<table border=\"1\" class=\"dataframe\">\n",
       "  <thead>\n",
       "    <tr style=\"text-align: right;\">\n",
       "      <th></th>\n",
       "      <th>product_category_tree</th>\n",
       "      <th>image</th>\n",
       "    </tr>\n",
       "  </thead>\n",
       "  <tbody>\n",
       "    <tr>\n",
       "      <th>0</th>\n",
       "      <td>Home Furnishing</td>\n",
       "      <td>55b85ea15a1536d46b7190ad6fff8ce7.jpg</td>\n",
       "    </tr>\n",
       "    <tr>\n",
       "      <th>1</th>\n",
       "      <td>Baby Care</td>\n",
       "      <td>7b72c92c2f6c40268628ec5f14c6d590.jpg</td>\n",
       "    </tr>\n",
       "    <tr>\n",
       "      <th>2</th>\n",
       "      <td>Baby Care</td>\n",
       "      <td>64d5d4a258243731dc7bbb1eef49ad74.jpg</td>\n",
       "    </tr>\n",
       "    <tr>\n",
       "      <th>3</th>\n",
       "      <td>Home Furnishing</td>\n",
       "      <td>d4684dcdc759dd9cdf41504698d737d8.jpg</td>\n",
       "    </tr>\n",
       "    <tr>\n",
       "      <th>4</th>\n",
       "      <td>Home Furnishing</td>\n",
       "      <td>6325b6870c54cd47be6ebfbffa620ec7.jpg</td>\n",
       "    </tr>\n",
       "  </tbody>\n",
       "</table>\n",
       "</div>"
      ],
      "text/plain": [
       "  product_category_tree                                 image\n",
       "0       Home Furnishing  55b85ea15a1536d46b7190ad6fff8ce7.jpg\n",
       "1             Baby Care  7b72c92c2f6c40268628ec5f14c6d590.jpg\n",
       "2             Baby Care  64d5d4a258243731dc7bbb1eef49ad74.jpg\n",
       "3       Home Furnishing  d4684dcdc759dd9cdf41504698d737d8.jpg\n",
       "4       Home Furnishing  6325b6870c54cd47be6ebfbffa620ec7.jpg"
      ]
     },
     "execution_count": 4,
     "metadata": {},
     "output_type": "execute_result"
    }
   ],
   "source": [
    "img_dir = 'Flipkart/Images/'\n",
    "l_cat = ['Home Furnishing', 'Baby Care', 'Home Decor & Festive Needs', 'Beauty and Personal Care', 'Watches', 'Kitchen & Dining', 'Computers']\n",
    "\n",
    "data = pd.read_csv('dataframe_pictures.csv')\n",
    "data.head()"
   ]
  },
  {
   "cell_type": "markdown",
   "id": "83d9889e-d0f5-4ed8-b979-7bfee2823830",
   "metadata": {},
   "source": [
    "Split entre un training set (80%) et un test set (20%)."
   ]
  },
  {
   "cell_type": "code",
   "execution_count": 5,
   "id": "85c01329-802f-4697-a5e6-f0d7c0bb40ca",
   "metadata": {},
   "outputs": [
    {
     "name": "stdout",
     "output_type": "stream",
     "text": [
      "data_train : (840, 2)\n",
      "data_test : (210, 2)\n"
     ]
    }
   ],
   "source": [
    "data_train, data_test = train_test_split(data, stratify=data['product_category_tree'], test_size=0.20, random_state=42)\n",
    "data_train.reset_index(inplace=True, drop=True)\n",
    "data_test.reset_index(inplace=True, drop=True)\n",
    "print(f'data_train : {data_train.shape}')\n",
    "print(f'data_test : {data_test.shape}')"
   ]
  },
  {
   "cell_type": "markdown",
   "id": "b42ac9a3-5422-42b8-955f-97010202534d",
   "metadata": {},
   "source": [
    "La méthode utilisée a besoin que les images soient au préalable réparties dans des dossiers selon leurs classes.  \n",
    "Je sépare également le training set du test set.  "
   ]
  },
  {
   "cell_type": "code",
   "execution_count": 6,
   "id": "0124323e-6a14-4764-8b75-b64254c22226",
   "metadata": {},
   "outputs": [
    {
     "name": "stdout",
     "output_type": "stream",
     "text": [
      "Directories already exist\n"
     ]
    }
   ],
   "source": [
    "import shutil\n",
    "\n",
    "# Creating Train / Test folders\n",
    "if os.path.exists(img_dir + '/train//' + l_cat[0]):\n",
    "    print('Directories already exist')\n",
    "else:  \n",
    "    for categ in l_cat:\n",
    "        os.makedirs(img_dir + '/train//' + categ)\n",
    "        os.makedirs(img_dir + '/test//' + categ)\n",
    "    \n",
    "    for index, row in data_train.iterrows():\n",
    "        shutil.copy(img_dir + str(row['image']), img_dir + '/train//' + str(row['product_category_tree']))\n",
    "        \n",
    "    for index, row in data_test.iterrows():\n",
    "        shutil.copy(img_dir + str(row['image']), img_dir + '/test//' + str(row['product_category_tree']))"
   ]
  },
  {
   "cell_type": "markdown",
   "id": "eb438f8f-d3d9-46f7-a37d-f2dfb86a2037",
   "metadata": {},
   "source": [
    "Utilisation de la fonction image_dataset_from_directory pour récupèrer les images."
   ]
  },
  {
   "cell_type": "code",
   "execution_count": 7,
   "id": "4d2d6063-fc3c-4e70-82a4-fb9f4755f134",
   "metadata": {},
   "outputs": [],
   "source": [
    "batch_size = 32\n",
    "\n",
    "def dataset_fct(path, validation_split=0, data_type=None) :\n",
    "    dataset = tf.keras.utils.image_dataset_from_directory(\n",
    "                    path, labels='inferred', label_mode='categorical',\n",
    "                    class_names=None, batch_size=batch_size, image_size=(224, 224), shuffle=True, seed=42,\n",
    "                    validation_split=validation_split, subset=data_type\n",
    "                    )\n",
    "    return dataset"
   ]
  },
  {
   "cell_type": "markdown",
   "id": "18158290-a096-4400-8814-e9ecec38cf30",
   "metadata": {},
   "source": [
    "Je sépare également le training set crée précédemment entre un training set (75%) et un validation set (25%)."
   ]
  },
  {
   "cell_type": "code",
   "execution_count": 8,
   "id": "6ff061c0-4267-4c14-bdd5-1abf5ef9b90c",
   "metadata": {},
   "outputs": [
    {
     "name": "stdout",
     "output_type": "stream",
     "text": [
      "Found 840 files belonging to 7 classes.\n",
      "Using 630 files for training.\n",
      "Found 840 files belonging to 7 classes.\n",
      "Using 210 files for validation.\n",
      "Found 210 files belonging to 7 classes.\n"
     ]
    }
   ],
   "source": [
    "path_train = \"Flipkart/Images/train/\"\n",
    "path_test = \"Flipkart/Images/test/\"\n",
    "\n",
    "dataset_train = dataset_fct(path_train, validation_split=0.25, data_type='training')\n",
    "dataset_val = dataset_fct(path_train, validation_split=0.25, data_type='validation')\n",
    "dataset_test = dataset_fct(path_test, validation_split=0, data_type=None)"
   ]
  },
  {
   "cell_type": "markdown",
   "id": "25ce9a9c-a5bf-4303-a235-96ea6ff5fb5f",
   "metadata": {},
   "source": [
    "# Création du modèle basé sur VGG-16"
   ]
  },
  {
   "cell_type": "markdown",
   "id": "f015a794-41c9-44a9-8c31-173d9794e88b",
   "metadata": {},
   "source": [
    "Voici le modèle de base VGG-16 sans la sortie (les 1000 classes) et sans les 3 derniers layers qui consituent le réseau de neurones denses \"classiques\".  \n",
    "Nous allons l'adapter à notre besoin."
   ]
  },
  {
   "cell_type": "code",
   "execution_count": 9,
   "id": "105f13d0-2bc3-4172-9d33-701b42be092a",
   "metadata": {
    "scrolled": true
   },
   "outputs": [
    {
     "name": "stdout",
     "output_type": "stream",
     "text": [
      "Model: \"vgg16\"\n",
      "_________________________________________________________________\n",
      " Layer (type)                Output Shape              Param #   \n",
      "=================================================================\n",
      " input_1 (InputLayer)        [(None, 224, 224, 3)]     0         \n",
      "                                                                 \n",
      " block1_conv1 (Conv2D)       (None, 224, 224, 64)      1792      \n",
      "                                                                 \n",
      " block1_conv2 (Conv2D)       (None, 224, 224, 64)      36928     \n",
      "                                                                 \n",
      " block1_pool (MaxPooling2D)  (None, 112, 112, 64)      0         \n",
      "                                                                 \n",
      " block2_conv1 (Conv2D)       (None, 112, 112, 128)     73856     \n",
      "                                                                 \n",
      " block2_conv2 (Conv2D)       (None, 112, 112, 128)     147584    \n",
      "                                                                 \n",
      " block2_pool (MaxPooling2D)  (None, 56, 56, 128)       0         \n",
      "                                                                 \n",
      " block3_conv1 (Conv2D)       (None, 56, 56, 256)       295168    \n",
      "                                                                 \n",
      " block3_conv2 (Conv2D)       (None, 56, 56, 256)       590080    \n",
      "                                                                 \n",
      " block3_conv3 (Conv2D)       (None, 56, 56, 256)       590080    \n",
      "                                                                 \n",
      " block3_pool (MaxPooling2D)  (None, 28, 28, 256)       0         \n",
      "                                                                 \n",
      " block4_conv1 (Conv2D)       (None, 28, 28, 512)       1180160   \n",
      "                                                                 \n",
      " block4_conv2 (Conv2D)       (None, 28, 28, 512)       2359808   \n",
      "                                                                 \n",
      " block4_conv3 (Conv2D)       (None, 28, 28, 512)       2359808   \n",
      "                                                                 \n",
      " block4_pool (MaxPooling2D)  (None, 14, 14, 512)       0         \n",
      "                                                                 \n",
      " block5_conv1 (Conv2D)       (None, 14, 14, 512)       2359808   \n",
      "                                                                 \n",
      " block5_conv2 (Conv2D)       (None, 14, 14, 512)       2359808   \n",
      "                                                                 \n",
      " block5_conv3 (Conv2D)       (None, 14, 14, 512)       2359808   \n",
      "                                                                 \n",
      " block5_pool (MaxPooling2D)  (None, 7, 7, 512)         0         \n",
      "                                                                 \n",
      "=================================================================\n",
      "Total params: 14,714,688\n",
      "Trainable params: 14,714,688\n",
      "Non-trainable params: 0\n",
      "_________________________________________________________________\n"
     ]
    }
   ],
   "source": [
    "model_base = VGG16(include_top=False, weights=\"imagenet\", input_shape=(224, 224, 3))\n",
    "model_base.summary()"
   ]
  },
  {
   "cell_type": "markdown",
   "id": "c3176b2e-008e-4c83-9a20-52c682ccf803",
   "metadata": {},
   "source": [
    "## Sans Data Augmentation"
   ]
  },
  {
   "cell_type": "markdown",
   "id": "bdc4e176-f2ed-46f1-bd58-b2da92975e9e",
   "metadata": {},
   "source": [
    "La fonction qui créée le modèle : \n",
    "- On récupère le modèle de base pré-entrainé et on fait en sorte que les couches de ce modèle ne s'entrainent pas.\n",
    "- On rajoute notre sortie qui sera constituée d'un GlobalAveragePooling2D(), une nouvelle couche de 256 neuronnes, un dropout de 0.5 pour éviter le sur-apprentissage et enfin une dernière couche qui aura 7 sorties correspondant à nos 7 catégories.\n",
    "- Enfin, on compile le modèle. La fonction de perte sera categorical_crossentropy et l'optimiseur adam."
   ]
  },
  {
   "cell_type": "code",
   "execution_count": 25,
   "id": "e089dcfe-78a1-4187-963c-f6aacc06c338",
   "metadata": {},
   "outputs": [],
   "source": [
    "def create_model_fct() :\n",
    "    # Récupération modèle pré-entraîné\n",
    "    model_base = VGG16(include_top=False, weights=\"imagenet\", input_shape=(224, 224, 3))\n",
    "\n",
    "    # Layer non entraînables = on garde les poids du modèle pré-entraîné\n",
    "    for layer in model_base.layers:\n",
    "        layer.trainable = False\n",
    "\n",
    "    # Récupérer la sortie de ce réseau\n",
    "    x = model_base.output\n",
    "    # Compléter le modèle\n",
    "    x = GlobalAveragePooling2D()(x)\n",
    "    x = Dense(256, activation='relu')(x)\n",
    "    x = Dropout(0.5)(x)\n",
    "    predictions = Dense(7, activation='softmax')(x)\n",
    "\n",
    "    # Définir le nouveau modèle\n",
    "    model = Model(inputs=model_base.input, outputs=predictions)\n",
    "    # compilation du modèle \n",
    "    model.compile(loss=\"categorical_crossentropy\", optimizer='rmsprop', metrics=[\"accuracy\"])\n",
    "\n",
    "    print(model.summary())\n",
    "    \n",
    "    return model\n",
    "    "
   ]
  },
  {
   "cell_type": "markdown",
   "id": "d9a9a7bf-bc76-4542-802d-cee2b39c3a96",
   "metadata": {},
   "source": [
    "On utilise la fonction précédente pour créer notre modèle et on crée le callback avec un checkpoint qui se base sur la val_loss minimale."
   ]
  },
  {
   "cell_type": "code",
   "execution_count": 26,
   "id": "e3487ee2-eb70-46b2-a40f-41b2a4c26948",
   "metadata": {
    "scrolled": true
   },
   "outputs": [
    {
     "name": "stdout",
     "output_type": "stream",
     "text": [
      "Model: \"model_1\"\n",
      "_________________________________________________________________\n",
      " Layer (type)                Output Shape              Param #   \n",
      "=================================================================\n",
      " input_5 (InputLayer)        [(None, 224, 224, 3)]     0         \n",
      "                                                                 \n",
      " block1_conv1 (Conv2D)       (None, 224, 224, 64)      1792      \n",
      "                                                                 \n",
      " block1_conv2 (Conv2D)       (None, 224, 224, 64)      36928     \n",
      "                                                                 \n",
      " block1_pool (MaxPooling2D)  (None, 112, 112, 64)      0         \n",
      "                                                                 \n",
      " block2_conv1 (Conv2D)       (None, 112, 112, 128)     73856     \n",
      "                                                                 \n",
      " block2_conv2 (Conv2D)       (None, 112, 112, 128)     147584    \n",
      "                                                                 \n",
      " block2_pool (MaxPooling2D)  (None, 56, 56, 128)       0         \n",
      "                                                                 \n",
      " block3_conv1 (Conv2D)       (None, 56, 56, 256)       295168    \n",
      "                                                                 \n",
      " block3_conv2 (Conv2D)       (None, 56, 56, 256)       590080    \n",
      "                                                                 \n",
      " block3_conv3 (Conv2D)       (None, 56, 56, 256)       590080    \n",
      "                                                                 \n",
      " block3_pool (MaxPooling2D)  (None, 28, 28, 256)       0         \n",
      "                                                                 \n",
      " block4_conv1 (Conv2D)       (None, 28, 28, 512)       1180160   \n",
      "                                                                 \n",
      " block4_conv2 (Conv2D)       (None, 28, 28, 512)       2359808   \n",
      "                                                                 \n",
      " block4_conv3 (Conv2D)       (None, 28, 28, 512)       2359808   \n",
      "                                                                 \n",
      " block4_pool (MaxPooling2D)  (None, 14, 14, 512)       0         \n",
      "                                                                 \n",
      " block5_conv1 (Conv2D)       (None, 14, 14, 512)       2359808   \n",
      "                                                                 \n",
      " block5_conv2 (Conv2D)       (None, 14, 14, 512)       2359808   \n",
      "                                                                 \n",
      " block5_conv3 (Conv2D)       (None, 14, 14, 512)       2359808   \n",
      "                                                                 \n",
      " block5_pool (MaxPooling2D)  (None, 7, 7, 512)         0         \n",
      "                                                                 \n",
      " global_average_pooling2d_3   (None, 512)              0         \n",
      " (GlobalAveragePooling2D)                                        \n",
      "                                                                 \n",
      " dense_6 (Dense)             (None, 256)               131328    \n",
      "                                                                 \n",
      " dropout_3 (Dropout)         (None, 256)               0         \n",
      "                                                                 \n",
      " dense_7 (Dense)             (None, 7)                 1799      \n",
      "                                                                 \n",
      "=================================================================\n",
      "Total params: 14,847,815\n",
      "Trainable params: 133,127\n",
      "Non-trainable params: 14,714,688\n",
      "_________________________________________________________________\n",
      "None\n"
     ]
    }
   ],
   "source": [
    "# Création du modèle\n",
    "with tf.device('/gpu:0'): \n",
    "    model_no_DA = create_model_fct()\n",
    "\n",
    "# Création du callback\n",
    "model_no_DA_save_path = \"./model_no_DA_best_weights.h5\"\n",
    "checkpoint = ModelCheckpoint(model_no_DA_save_path, monitor='val_loss', verbose=1, save_best_only=True, mode='min')\n",
    "es = EarlyStopping(monitor='val_loss', mode='min', verbose=1, patience=5)\n",
    "callbacks_list = [checkpoint, es]\n"
   ]
  },
  {
   "cell_type": "markdown",
   "id": "582d7715-965f-4b3b-ad1b-42cf351eae45",
   "metadata": {},
   "source": [
    "\r\n",
    "On entraine notre modèle sur le training set."
   ]
  },
  {
   "cell_type": "code",
   "execution_count": 12,
   "id": "29279bf5-1c4e-48c5-a653-d44fc8009367",
   "metadata": {},
   "outputs": [
    {
     "name": "stdout",
     "output_type": "stream",
     "text": [
      "Epoch 1/50\n",
      "20/20 [==============================] - ETA: 0s - loss: 6.1635 - accuracy: 0.4825\n",
      "Epoch 1: val_loss improved from inf to 1.62651, saving model to .\\model_no_DA_best_weights.h5\n",
      "20/20 [==============================] - 15s 374ms/step - loss: 6.1635 - accuracy: 0.4825 - val_loss: 1.6265 - val_accuracy: 0.7333\n",
      "Epoch 2/50\n",
      "20/20 [==============================] - ETA: 0s - loss: 2.2215 - accuracy: 0.6651\n",
      "Epoch 2: val_loss improved from 1.62651 to 1.26050, saving model to .\\model_no_DA_best_weights.h5\n",
      "20/20 [==============================] - 3s 128ms/step - loss: 2.2215 - accuracy: 0.6651 - val_loss: 1.2605 - val_accuracy: 0.7429\n",
      "Epoch 3/50\n",
      "20/20 [==============================] - ETA: 0s - loss: 1.4486 - accuracy: 0.7143\n",
      "Epoch 3: val_loss improved from 1.26050 to 1.08827, saving model to .\\model_no_DA_best_weights.h5\n",
      "20/20 [==============================] - 3s 127ms/step - loss: 1.4486 - accuracy: 0.7143 - val_loss: 1.0883 - val_accuracy: 0.7857\n",
      "Epoch 4/50\n",
      "20/20 [==============================] - ETA: 0s - loss: 0.9876 - accuracy: 0.8000\n",
      "Epoch 4: val_loss improved from 1.08827 to 0.82165, saving model to .\\model_no_DA_best_weights.h5\n",
      "20/20 [==============================] - 3s 129ms/step - loss: 0.9876 - accuracy: 0.8000 - val_loss: 0.8217 - val_accuracy: 0.8000\n",
      "Epoch 5/50\n",
      "20/20 [==============================] - ETA: 0s - loss: 0.6631 - accuracy: 0.8206\n",
      "Epoch 5: val_loss did not improve from 0.82165\n",
      "20/20 [==============================] - 3s 125ms/step - loss: 0.6631 - accuracy: 0.8206 - val_loss: 0.8725 - val_accuracy: 0.7952\n",
      "Epoch 6/50\n",
      "20/20 [==============================] - ETA: 0s - loss: 0.5649 - accuracy: 0.8444\n",
      "Epoch 6: val_loss did not improve from 0.82165\n",
      "20/20 [==============================] - 3s 127ms/step - loss: 0.5649 - accuracy: 0.8444 - val_loss: 0.9873 - val_accuracy: 0.7857\n",
      "Epoch 7/50\n",
      "20/20 [==============================] - ETA: 0s - loss: 0.4733 - accuracy: 0.8810\n",
      "Epoch 7: val_loss did not improve from 0.82165\n",
      "20/20 [==============================] - 3s 127ms/step - loss: 0.4733 - accuracy: 0.8810 - val_loss: 0.8780 - val_accuracy: 0.8095\n",
      "Epoch 8/50\n",
      "20/20 [==============================] - ETA: 0s - loss: 0.4066 - accuracy: 0.8810\n",
      "Epoch 8: val_loss did not improve from 0.82165\n",
      "20/20 [==============================] - 3s 126ms/step - loss: 0.4066 - accuracy: 0.8810 - val_loss: 0.9669 - val_accuracy: 0.8190\n",
      "Epoch 9/50\n",
      "20/20 [==============================] - ETA: 0s - loss: 0.2621 - accuracy: 0.9143\n",
      "Epoch 9: val_loss did not improve from 0.82165\n",
      "20/20 [==============================] - 3s 127ms/step - loss: 0.2621 - accuracy: 0.9143 - val_loss: 0.9895 - val_accuracy: 0.7857\n",
      "Epoch 9: early stopping\n"
     ]
    }
   ],
   "source": [
    "with tf.device('/gpu:0'): \n",
    "    history_no_DA = model_no_DA.fit(dataset_train,\n",
    "                    validation_data=dataset_val,\n",
    "                    batch_size=batch_size, epochs=50, callbacks=callbacks_list, verbose=1)\n"
   ]
  },
  {
   "cell_type": "markdown",
   "id": "17e78154-480e-4c84-b48b-1ade1741695e",
   "metadata": {},
   "source": [
    "Si on prend les modèle avec les paramètres finaux, on a une précision de 99% sur le training set et de 78% sur le validation set."
   ]
  },
  {
   "cell_type": "code",
   "execution_count": 13,
   "id": "54f03b0d-8ef0-43f9-bb9d-ffee9c2c8d6a",
   "metadata": {},
   "outputs": [
    {
     "name": "stdout",
     "output_type": "stream",
     "text": [
      "20/20 [==============================] - 2s 82ms/step - loss: 0.0477 - accuracy: 0.9889\n",
      "Training Accuracy   : 0.9889\n",
      "\n",
      "7/7 [==============================] - 1s 69ms/step - loss: 0.9895 - accuracy: 0.7857\n",
      "Validation Accuracy :  0.7857\n"
     ]
    }
   ],
   "source": [
    "# Score du dernier epoch\n",
    "\n",
    "loss, accuracy = model_no_DA.evaluate(dataset_train, verbose=True)\n",
    "print(\"Training Accuracy   : {:.4f}\".format(accuracy))\n",
    "print()\n",
    "loss, accuracy = model_no_DA.evaluate(dataset_val, verbose=True)\n",
    "print(\"Validation Accuracy :  {:.4f}\".format(accuracy))"
   ]
  },
  {
   "cell_type": "markdown",
   "id": "b004d7c7-49bd-412f-bb69-7d3949d6923e",
   "metadata": {},
   "source": [
    "Si on prend le meilleur modèle (qu'on charge via le checkpoint qu'on avait parametré), on a une précision de 80% sur le validation set et 73% sur le testing set."
   ]
  },
  {
   "cell_type": "code",
   "execution_count": 15,
   "id": "d6bddbff-b0ea-4304-88c8-5073e9a65e95",
   "metadata": {},
   "outputs": [
    {
     "name": "stdout",
     "output_type": "stream",
     "text": [
      "Validation Accuracy :  0.8000\n",
      "Test Accuracy       :  0.7381\n"
     ]
    }
   ],
   "source": [
    "# Score de l'epoch optimal\n",
    "\n",
    "model_no_DA.load_weights(model_no_DA_save_path)\n",
    "\n",
    "loss, accuracy = model_no_DA.evaluate(dataset_val, verbose=False)\n",
    "print(\"Validation Accuracy :  {:.4f}\".format(accuracy))\n",
    "\n",
    "loss, accuracy = model_no_DA.evaluate(dataset_test, verbose=False)\n",
    "print(\"Test Accuracy       :  {:.4f}\".format(accuracy))\n"
   ]
  },
  {
   "cell_type": "code",
   "execution_count": 16,
   "id": "e1a5885a-0a85-4267-b27b-5bf856e65acf",
   "metadata": {},
   "outputs": [
    {
     "data": {
      "image/png": "[encoded data removed]",
      "text/plain": [
       "<Figure size 1000x500 with 2 Axes>"
      ]
     },
     "metadata": {},
     "output_type": "display_data"
    }
   ],
   "source": [
    "show_history(history_no_DA)\n",
    "plot_history(history_no_DA, path=\"standard.png\")\n",
    "plt.close()"
   ]
  },
  {
   "cell_type": "markdown",
   "id": "5dcb9fc5-a03c-4632-998d-dfba291e4cfe",
   "metadata": {},
   "source": [
    "On voit que les résultats varient fortement entre le training set, le validation set et même le testing set.  \n",
    "Cette variation est dûe au sur-apprentissage.  \n",
    "Le data augmentation permet entre autre de palier ce problème."
   ]
  },
  {
   "cell_type": "markdown",
   "id": "a003dfc4-3387-401c-ac4a-826243058d23",
   "metadata": {},
   "source": [
    "## Avec Data Augmentation"
   ]
  },
  {
   "cell_type": "markdown",
   "id": "6c0fd928-f2d3-4e32-a539-d22b3b735a65",
   "metadata": {},
   "source": [
    "La fonction qui créée le modèle : \n",
    "- On récupère le modèle de base pré-entrainé et on fait en sorte que les couches de ce modèle ne s'entrainent pas.\n",
    "- On crée notre modèle en appliquant en premier une data augmentation à nos images en entrées.\n",
    "- On redimensionne les pixels des images pour plus qu'ils soient entre [0, 255] mais entre [-1, 1] pour faciliter les calculs.\n",
    "- On applique ici le modèle de base qu'on a récupéré auparavant.\n",
    "- Et on rajoute notre sortie qui sera constituée d'un GlobalAveragePooling2D(), une nouvelle couche de 256 neuronnes, un dropout de 0.5 pour éviter le sur-apprentissage et enfin une dernière couche qui aura 7 sorties correspondant à nos 7 catégories.\n",
    "- Enfin, on compile le modèle. La fonction de perte sera categorical_crossentropy et l'optimiseur adam."
   ]
  },
  {
   "cell_type": "code",
   "execution_count": 28,
   "id": "b0b515c4-c15d-465f-ae9d-5ceb7be945c9",
   "metadata": {},
   "outputs": [],
   "source": [
    "def create_model_fct2() :\n",
    "    # Data augmentation\n",
    "    data_augmentation = Sequential([\n",
    "        RandomFlip(\"horizontal\", input_shape=(224, 224, 3)),\n",
    "        RandomRotation(0.1),\n",
    "        RandomZoom(0.1),\n",
    "        #Rescaling(1./127.5, offset=-1.0)\n",
    "      ])\n",
    "    \n",
    "    # Récupération modèle pré-entraîné\n",
    "    model_base = VGG16(include_top=False, weights=\"imagenet\", input_shape=(224, 224, 3))\n",
    "    for layer in model_base.layers:\n",
    "        layer.trainable = False\n",
    "\n",
    "    # Définition du nouveau modèle\n",
    "    model = Sequential([\n",
    "                data_augmentation,\n",
    "                Rescaling(1./127.5, offset=-1),\n",
    "                model_base,\n",
    "                GlobalAveragePooling2D(),\n",
    "                Dense(256, activation='relu'),\n",
    "                Dropout(0.5),\n",
    "                Dense(7, activation='softmax')\n",
    "                ])\n",
    "\n",
    "    # compilation du modèle \n",
    "    model.compile(loss=\"categorical_crossentropy\", optimizer='adam', metrics=[\"accuracy\"])\n",
    "\n",
    "    print(model.summary())\n",
    "    \n",
    "    return model\n",
    "    "
   ]
  },
  {
   "cell_type": "markdown",
   "id": "bba971b8-59f1-4897-93ee-a94e7f60642d",
   "metadata": {},
   "source": [
    "On utilise la fonction précédente pour créer notre modèle et on crée le callback avec un checkpoint qui se base sur la val_loss minimale."
   ]
  },
  {
   "cell_type": "code",
   "execution_count": 29,
   "id": "371285ac-1f4f-4751-9d16-4b5eae0d963d",
   "metadata": {},
   "outputs": [
    {
     "name": "stdout",
     "output_type": "stream",
     "text": [
      "Model: \"sequential_3\"\n",
      "_________________________________________________________________\n",
      " Layer (type)                Output Shape              Param #   \n",
      "=================================================================\n",
      " sequential_2 (Sequential)   (None, 224, 224, 3)       0         \n",
      "                                                                 \n",
      " rescaling_1 (Rescaling)     (None, 224, 224, 3)       0         \n",
      "                                                                 \n",
      " vgg16 (Functional)          (None, 7, 7, 512)         14714688  \n",
      "                                                                 \n",
      " global_average_pooling2d_4   (None, 512)              0         \n",
      " (GlobalAveragePooling2D)                                        \n",
      "                                                                 \n",
      " dense_8 (Dense)             (None, 256)               131328    \n",
      "                                                                 \n",
      " dropout_4 (Dropout)         (None, 256)               0         \n",
      "                                                                 \n",
      " dense_9 (Dense)             (None, 7)                 1799      \n",
      "                                                                 \n",
      "=================================================================\n",
      "Total params: 14,847,815\n",
      "Trainable params: 133,127\n",
      "Non-trainable params: 14,714,688\n",
      "_________________________________________________________________\n",
      "None\n"
     ]
    }
   ],
   "source": [
    "# Création du modèle\n",
    "with tf.device('/gpu:0'): \n",
    "    model_final = create_model_fct2()\n",
    "\n",
    "# Création du callback\n",
    "model_final_save_path = \"./model_final_best_weights.h5\"\n",
    "checkpoint = ModelCheckpoint(model_final_save_path, monitor='val_loss', verbose=1, save_best_only=True, mode='min')\n",
    "es = EarlyStopping(monitor='val_loss', mode='min', verbose=1, patience=5)\n",
    "callbacks_list = [checkpoint, es]\n"
   ]
  },
  {
   "cell_type": "markdown",
   "id": "9b7f7a7c-7e77-40ef-995a-b316d992114a",
   "metadata": {},
   "source": [
    "On entraine notre modèle sur le training set."
   ]
  },
  {
   "cell_type": "code",
   "execution_count": 30,
   "id": "c999bef6-92d2-492b-a89e-d47c5e1fb8a2",
   "metadata": {
    "scrolled": true
   },
   "outputs": [
    {
     "name": "stdout",
     "output_type": "stream",
     "text": [
      "Epoch 1/50\n",
      "20/20 [==============================] - ETA: 0s - loss: 1.9025 - accuracy: 0.2540\n",
      "Epoch 1: val_loss improved from inf to 1.40770, saving model to .\\model_final_best_weights.h5\n",
      "20/20 [==============================] - 7s 234ms/step - loss: 1.9025 - accuracy: 0.2540 - val_loss: 1.4077 - val_accuracy: 0.6333\n",
      "Epoch 2/50\n",
      "20/20 [==============================] - ETA: 0s - loss: 1.4233 - accuracy: 0.5159\n",
      "Epoch 2: val_loss improved from 1.40770 to 1.06644, saving model to .\\model_final_best_weights.h5\n",
      "20/20 [==============================] - 5s 237ms/step - loss: 1.4233 - accuracy: 0.5159 - val_loss: 1.0664 - val_accuracy: 0.7619\n",
      "Epoch 3/50\n",
      "20/20 [==============================] - ETA: 0s - loss: 1.1985 - accuracy: 0.5921\n",
      "Epoch 3: val_loss improved from 1.06644 to 0.93192, saving model to .\\model_final_best_weights.h5\n",
      "20/20 [==============================] - 5s 229ms/step - loss: 1.1985 - accuracy: 0.5921 - val_loss: 0.9319 - val_accuracy: 0.7667\n",
      "Epoch 4/50\n",
      "20/20 [==============================] - ETA: 0s - loss: 1.0660 - accuracy: 0.6762\n",
      "Epoch 4: val_loss improved from 0.93192 to 0.81452, saving model to .\\model_final_best_weights.h5\n",
      "20/20 [==============================] - 5s 233ms/step - loss: 1.0660 - accuracy: 0.6762 - val_loss: 0.8145 - val_accuracy: 0.7905\n",
      "Epoch 5/50\n",
      "20/20 [==============================] - ETA: 0s - loss: 0.9689 - accuracy: 0.7159\n",
      "Epoch 5: val_loss improved from 0.81452 to 0.77671, saving model to .\\model_final_best_weights.h5\n",
      "20/20 [==============================] - 5s 237ms/step - loss: 0.9689 - accuracy: 0.7159 - val_loss: 0.7767 - val_accuracy: 0.7619\n",
      "Epoch 6/50\n",
      "20/20 [==============================] - ETA: 0s - loss: 0.9081 - accuracy: 0.7127\n",
      "Epoch 6: val_loss improved from 0.77671 to 0.70438, saving model to .\\model_final_best_weights.h5\n",
      "20/20 [==============================] - 5s 235ms/step - loss: 0.9081 - accuracy: 0.7127 - val_loss: 0.7044 - val_accuracy: 0.8048\n",
      "Epoch 7/50\n",
      "20/20 [==============================] - ETA: 0s - loss: 0.8401 - accuracy: 0.7444\n",
      "Epoch 7: val_loss did not improve from 0.70438\n",
      "20/20 [==============================] - 5s 230ms/step - loss: 0.8401 - accuracy: 0.7444 - val_loss: 0.7107 - val_accuracy: 0.7667\n",
      "Epoch 8/50\n",
      "20/20 [==============================] - ETA: 0s - loss: 0.8490 - accuracy: 0.7429\n",
      "Epoch 8: val_loss improved from 0.70438 to 0.67037, saving model to .\\model_final_best_weights.h5\n",
      "20/20 [==============================] - 5s 232ms/step - loss: 0.8490 - accuracy: 0.7429 - val_loss: 0.6704 - val_accuracy: 0.8000\n",
      "Epoch 9/50\n",
      "20/20 [==============================] - ETA: 0s - loss: 0.7903 - accuracy: 0.7508\n",
      "Epoch 9: val_loss improved from 0.67037 to 0.62266, saving model to .\\model_final_best_weights.h5\n",
      "20/20 [==============================] - 5s 231ms/step - loss: 0.7903 - accuracy: 0.7508 - val_loss: 0.6227 - val_accuracy: 0.8143\n",
      "Epoch 10/50\n",
      "20/20 [==============================] - ETA: 0s - loss: 0.7558 - accuracy: 0.7730\n",
      "Epoch 10: val_loss did not improve from 0.62266\n",
      "20/20 [==============================] - 5s 228ms/step - loss: 0.7558 - accuracy: 0.7730 - val_loss: 0.6357 - val_accuracy: 0.8000\n",
      "Epoch 11/50\n",
      "20/20 [==============================] - ETA: 0s - loss: 0.7229 - accuracy: 0.7873\n",
      "Epoch 11: val_loss improved from 0.62266 to 0.59663, saving model to .\\model_final_best_weights.h5\n",
      "20/20 [==============================] - 5s 231ms/step - loss: 0.7229 - accuracy: 0.7873 - val_loss: 0.5966 - val_accuracy: 0.8048\n",
      "Epoch 12/50\n",
      "20/20 [==============================] - ETA: 0s - loss: 0.7140 - accuracy: 0.7667\n",
      "Epoch 12: val_loss improved from 0.59663 to 0.58261, saving model to .\\model_final_best_weights.h5\n",
      "20/20 [==============================] - 5s 232ms/step - loss: 0.7140 - accuracy: 0.7667 - val_loss: 0.5826 - val_accuracy: 0.8190\n",
      "Epoch 13/50\n",
      "20/20 [==============================] - ETA: 0s - loss: 0.6990 - accuracy: 0.7857\n",
      "Epoch 13: val_loss did not improve from 0.58261\n",
      "20/20 [==============================] - 5s 228ms/step - loss: 0.6990 - accuracy: 0.7857 - val_loss: 0.6269 - val_accuracy: 0.7762\n",
      "Epoch 14/50\n",
      "20/20 [==============================] - ETA: 0s - loss: 0.6621 - accuracy: 0.7921\n",
      "Epoch 14: val_loss improved from 0.58261 to 0.56655, saving model to .\\model_final_best_weights.h5\n",
      "20/20 [==============================] - 5s 233ms/step - loss: 0.6621 - accuracy: 0.7921 - val_loss: 0.5665 - val_accuracy: 0.8095\n",
      "Epoch 15/50\n",
      "20/20 [==============================] - ETA: 0s - loss: 0.6583 - accuracy: 0.7873\n",
      "Epoch 15: val_loss improved from 0.56655 to 0.56515, saving model to .\\model_final_best_weights.h5\n",
      "20/20 [==============================] - 5s 235ms/step - loss: 0.6583 - accuracy: 0.7873 - val_loss: 0.5651 - val_accuracy: 0.8143\n",
      "Epoch 16/50\n",
      "20/20 [==============================] - ETA: 0s - loss: 0.6198 - accuracy: 0.8095\n",
      "Epoch 16: val_loss did not improve from 0.56515\n",
      "20/20 [==============================] - 5s 237ms/step - loss: 0.6198 - accuracy: 0.8095 - val_loss: 0.5705 - val_accuracy: 0.8000\n",
      "Epoch 17/50\n",
      "20/20 [==============================] - ETA: 0s - loss: 0.5922 - accuracy: 0.8270\n",
      "Epoch 17: val_loss improved from 0.56515 to 0.55310, saving model to .\\model_final_best_weights.h5\n",
      "20/20 [==============================] - 5s 241ms/step - loss: 0.5922 - accuracy: 0.8270 - val_loss: 0.5531 - val_accuracy: 0.8143\n",
      "Epoch 18/50\n",
      "20/20 [==============================] - ETA: 0s - loss: 0.5895 - accuracy: 0.8159\n",
      "Epoch 18: val_loss improved from 0.55310 to 0.55244, saving model to .\\model_final_best_weights.h5\n",
      "20/20 [==============================] - 5s 234ms/step - loss: 0.5895 - accuracy: 0.8159 - val_loss: 0.5524 - val_accuracy: 0.8143\n",
      "Epoch 19/50\n",
      "20/20 [==============================] - ETA: 0s - loss: 0.5666 - accuracy: 0.8206\n",
      "Epoch 19: val_loss improved from 0.55244 to 0.54230, saving model to .\\model_final_best_weights.h5\n",
      "20/20 [==============================] - 5s 233ms/step - loss: 0.5666 - accuracy: 0.8206 - val_loss: 0.5423 - val_accuracy: 0.7952\n",
      "Epoch 20/50\n",
      "20/20 [==============================] - ETA: 0s - loss: 0.5797 - accuracy: 0.8206\n",
      "Epoch 20: val_loss improved from 0.54230 to 0.53346, saving model to .\\model_final_best_weights.h5\n",
      "20/20 [==============================] - 5s 232ms/step - loss: 0.5797 - accuracy: 0.8206 - val_loss: 0.5335 - val_accuracy: 0.8238\n",
      "Epoch 21/50\n",
      "20/20 [==============================] - ETA: 0s - loss: 0.5327 - accuracy: 0.8349\n",
      "Epoch 21: val_loss did not improve from 0.53346\n",
      "20/20 [==============================] - 5s 230ms/step - loss: 0.5327 - accuracy: 0.8349 - val_loss: 0.5386 - val_accuracy: 0.8286\n",
      "Epoch 22/50\n",
      "20/20 [==============================] - ETA: 0s - loss: 0.5286 - accuracy: 0.8460\n",
      "Epoch 22: val_loss did not improve from 0.53346\n",
      "20/20 [==============================] - 5s 236ms/step - loss: 0.5286 - accuracy: 0.8460 - val_loss: 0.5376 - val_accuracy: 0.8286\n",
      "Epoch 23/50\n",
      "20/20 [==============================] - ETA: 0s - loss: 0.4993 - accuracy: 0.8365\n",
      "Epoch 23: val_loss did not improve from 0.53346\n",
      "20/20 [==============================] - 5s 233ms/step - loss: 0.4993 - accuracy: 0.8365 - val_loss: 0.5522 - val_accuracy: 0.8190\n",
      "Epoch 24/50\n",
      "20/20 [==============================] - ETA: 0s - loss: 0.4650 - accuracy: 0.8508\n",
      "Epoch 24: val_loss did not improve from 0.53346\n",
      "20/20 [==============================] - 5s 231ms/step - loss: 0.4650 - accuracy: 0.8508 - val_loss: 0.5469 - val_accuracy: 0.8190\n",
      "Epoch 25/50\n",
      "20/20 [==============================] - ETA: 0s - loss: 0.4863 - accuracy: 0.8365\n",
      "Epoch 25: val_loss did not improve from 0.53346\n",
      "20/20 [==============================] - 5s 229ms/step - loss: 0.4863 - accuracy: 0.8365 - val_loss: 0.5425 - val_accuracy: 0.8048\n",
      "Epoch 25: early stopping\n"
     ]
    }
   ],
   "source": [
    "with tf.device('/gpu:0'): \n",
    "    history = model_final.fit(dataset_train,\n",
    "                    validation_data=dataset_val,\n",
    "                    batch_size=batch_size, epochs=50, callbacks=callbacks_list, verbose=1)\n"
   ]
  },
  {
   "cell_type": "markdown",
   "id": "52b8b455-2d85-4bf5-8724-eb53e9ae0062",
   "metadata": {},
   "source": [
    "Si on prend les modèle avec les paramètres finaux, on a une précision de 91% sur le training set et de 82% sur le validation set."
   ]
  },
  {
   "cell_type": "code",
   "execution_count": 31,
   "id": "d98b42a9-8d29-4a4d-96e2-b6dae6e38a36",
   "metadata": {},
   "outputs": [
    {
     "name": "stdout",
     "output_type": "stream",
     "text": [
      "20/20 [==============================] - 2s 80ms/step - loss: 0.3460 - accuracy: 0.9048\n",
      "Training Accuracy   : 0.9048\n",
      "\n",
      "7/7 [==============================] - 1s 67ms/step - loss: 0.5425 - accuracy: 0.8048\n",
      "Validation Accuracy :  0.8048\n"
     ]
    }
   ],
   "source": [
    "# Score du dernier epoch\n",
    "\n",
    "loss, accuracy = model_final.evaluate(dataset_train, verbose=True)\n",
    "print(\"Training Accuracy   : {:.4f}\".format(accuracy))\n",
    "print()\n",
    "loss, accuracy = model_final.evaluate(dataset_val, verbose=True)\n",
    "print(\"Validation Accuracy :  {:.4f}\".format(accuracy))"
   ]
  },
  {
   "cell_type": "markdown",
   "id": "1f75dfa3-6b2e-4594-800e-cba69a56d5b3",
   "metadata": {},
   "source": [
    "Si on prend le meilleur modèle (qu'on charge via le checkpoint qu'on avait parametré), on a une précision de 82% encore sur le validation set et 77% sur le testing set.  "
   ]
  },
  {
   "cell_type": "code",
   "execution_count": 32,
   "id": "887ff5b8-0321-4795-aba5-9eedf375f14e",
   "metadata": {},
   "outputs": [
    {
     "name": "stdout",
     "output_type": "stream",
     "text": [
      "Validation Accuracy :  0.8238\n",
      "Test Accuracy       :  0.7667\n"
     ]
    }
   ],
   "source": [
    "# Score de l'epoch optimal\n",
    "\n",
    "model_final.load_weights(model_final_save_path)\n",
    "\n",
    "loss, accuracy = model_final.evaluate(dataset_val, verbose=False)\n",
    "print(\"Validation Accuracy :  {:.4f}\".format(accuracy))\n",
    "\n",
    "loss, accuracy = model_final.evaluate(dataset_test, verbose=False)\n",
    "print(\"Test Accuracy       :  {:.4f}\".format(accuracy))\n"
   ]
  },
  {
   "cell_type": "markdown",
   "id": "2874425f-e117-48e1-955e-da7692c853da",
   "metadata": {},
   "source": [
    "Et voici le plot qui montre l'évolution du modèle sur le training_set et le validation_set (nommé test ici)."
   ]
  },
  {
   "cell_type": "code",
   "execution_count": 33,
   "id": "f5a29553-78f8-4448-adc2-d924210ff042",
   "metadata": {},
   "outputs": [
    {
     "data": {
      "image/png": "[encoded data removed]",
      "text/plain": [
       "<Figure size 1000x500 with 2 Axes>"
      ]
     },
     "metadata": {},
     "output_type": "display_data"
    }
   ],
   "source": [
    "show_history(history)\n",
    "plot_history(history, path=\"standard.png\")\n",
    "plt.close()"
   ]
  },
  {
   "cell_type": "markdown",
   "id": "20f5b43d-9f1e-4ad8-9ba7-bc1e8d8e9227",
   "metadata": {},
   "source": [
    "Le data augmentation a permis de réduire fortement le sur-apprentissage tout en augmentant légèrement les performances du modèle."
   ]
  }
 ],
 "metadata": {
  "kernelspec": {
   "display_name": "Python 3 (ipykernel)",
   "language": "python",
   "name": "python3"
  },
  "language_info": {
   "codemirror_mode": {
    "name": "ipython",
    "version": 3
   },
   "file_extension": ".py",
   "mimetype": "text/x-python",
   "name": "python",
   "nbconvert_exporter": "python",
   "pygments_lexer": "ipython3",
   "version": "3.11.7"
  }
 },
 "nbformat": 4,
 "nbformat_minor": 5
}
